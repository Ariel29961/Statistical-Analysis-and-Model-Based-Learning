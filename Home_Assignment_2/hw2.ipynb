{
 "cells": [
  {
   "cell_type": "markdown",
   "id": "f1b67689",
   "metadata": {},
   "source": [
    "##### Advanced Statistical Analysis and Model-Based Learning (Fall 2024-2025)\n",
    "# Home Assignment 2\n",
    "\n",
    "#### Topics:\n",
    "- Probability review\n",
    "- Normal, Chi-Squared, t, and F distributions\n",
    "- Distributional Properties of the Linear Model\n",
    "- Solving LS using SVD\n",
    "\n",
    "#### Due: 9/12/2024 by 18:30\n"
   ]
  },
  {
   "cell_type": "markdown",
   "id": "35821a8d",
   "metadata": {},
   "source": [
    "#### Instructions:\n",
    "- Write your IDs and date at the top cell.\n",
    "- Submit a copy of this notebook with code filled in the relevant places as the solution of coding exercises.\n",
    "- For theoretic exercises, you can either write your solution in the notebook using $\\LaTeX$ (preffered) or submit additional notes."
   ]
  },
  {
   "cell_type": "markdown",
   "id": "46e12f3c",
   "metadata": {},
   "source": [
    "\n",
    "**ID1**: \n",
    "\n",
    "**ID2**:\n",
    "\n",
    "**Date**:"
   ]
  },
  {
   "cell_type": "markdown",
   "id": "a4ec56cf",
   "metadata": {},
   "source": [
    "<hr>\n",
    "<hr>"
   ]
  },
  {
   "cell_type": "markdown",
   "id": "94b25809",
   "metadata": {},
   "source": [
    "## Problem 1 (Conditional Expectation)\n",
    "Let $X$ and $Y$ be two random variables with a probability model $P_{X,Y}$. Let $m : \\mathbb R \\to \\mathbb R$ such that $m(X)$ and $f(X)$ are random variables with finite variance. Suppose that $m(X)$ satisfies the ``orthogonality principle\": for any function $f : \\mathbb R \\to \\mathbb R$ such that $f(X)$ is a random variable, \n",
    "$$\n",
    "\\mathbb E \\left[\\left(Y - m(X) \\right) f(X) \\right] = 0.\n",
    "$$\n",
    "Namely, the error in predicting the target is ``orthogonal'' to the data. Prove that \n",
    "$$\n",
    "\\mathbb E \\left[\\left(Y - m(X) \\right)^2 \\right] \\leq \\mathbb E \\left[ \\left(Y - f(X) \\right)^2 \\right].\n",
    "$$"
   ]
  },
  {
   "cell_type": "markdown",
   "id": "6004becf",
   "metadata": {},
   "source": [
    "## Problem 2 (Sampling from $\\mathcal N(0,1)$, $\\chi^2$, $t$, and $F$)\n",
    "In the following exercise, you can only sample using repeated calls to ``random.random()``.\n",
    "You can use the ``scipy.stats`` package *only* to illustrate PDFs. You should illustrate histograms with number of bins about 5%-10% of the number of samples $n=1,000$ in the input to the histogram. For example, use $100$ bins equally spaced between the range of the samples, so that you'll get a nice comparison between the empirical distribution and the theoretical distribution represented by the PDF. Make sure that the histogram is normalized to approximate the density of the simulated random variable. Set the seed ``random.seed(my_id)`` where ``my_id`` is your ID number with leading zeros removed. \n",
    "\n",
    "1. Implement the functions ``sample_unif``, ``sample_normal_clt``, and ``sample_normal``. Illustrate the histogram of $1000$ samples from ``sample_normal_clt`` and $1000$ samples from ``sample_normal``. Choose the input to ``sample_normal_clt`` so that the two histogram look alike. \n",
    "2. Implement the functions ``sample_chisq``, ``sample_t``, and ``sample_f``. You should use ``sample_normal`` repeatedly. \n",
    "3. Use ``sample_normal`` to sample $1000$ times from $\\mathcal N(0,1)$ and use one figure to illustrate the histogram of the samples and the true PDF of $\\mathcal N(0,1)$\n",
    "4. Use ``sample_chisq`` to sample $1000$ times from $\\chi^2_k$ and use one figure to illustrate the histogram of the samples and the true PDF of $\\chi^2_k$; for $k=5$ and $k=10$.\n",
    "5. Use ``sample_t`` to sample $1000$ times from $t_k$ (the $t$-distribution with $k$ degrees of freedom) and use one figure to illustrate the histogram of the samples and the true PDF of $t_k$; for $k=5$ and $k=10$.\n",
    "6. Use ``sample_F`` to sample $1000$ times from $F_{k_1,k_2}$ and use one figure to illustrate the histogram of the samples and the true PDF of $F_{k_1,k_2}$; for $(k_1, k_2)= (10,5)$ and $(k_1, k_2)= (50,45)$."
   ]
  },
  {
   "cell_type": "code",
   "execution_count": null,
   "id": "ef6913d4",
   "metadata": {},
   "outputs": [],
   "source": [
    "import random\n",
    "from scipy.stats import norm\n",
    "import numpy as np\n",
    "\n",
    "def sample_unif(n: int) -> float:\n",
    "    \"\"\"\n",
    "    n independent samples from the uniform distribution over (0,1)\n",
    "    \"\"\"\n",
    "    \n",
    "    # YOUR CODE HERE\n",
    "    pass\n",
    "\n",
    "\n",
    "def sample_normal_clt(n: int) -> float:\n",
    "    \"\"\"\n",
    "    Use the CLT to approximately sample from the standard normal distribution\n",
    "    \n",
    "    Args:\n",
    "        n:    number of samples from a non-normal distribution\n",
    "    \n",
    "    Returns:\n",
    "        z:    a random sample, approximately from the standard normal distribution\n",
    "    \n",
    "    \"\"\"\n",
    "    \n",
    "    # YOUR CODE HERE\n",
    "    \n",
    "    pass\n",
    "\n",
    "def sample_normal() -> float:\n",
    "    \"\"\"\n",
    "    Sample from the standard normal distribution using a single sample\n",
    "    from the uniform distribution. You should use the normal quantile function\n",
    "    ``norm.ppf``\n",
    "        \n",
    "    Return:\n",
    "        z:    a random sample from the standard normal distribution\n",
    "    \n",
    "    \"\"\"\n",
    "    \n",
    "    # YOUR CODE HERE\n",
    "    \n",
    "    pass\n",
    "\n",
    "\n",
    "\n",
    "def sample_chisq(k: int) -> float:\n",
    "    \"\"\"\n",
    "    Sample from the chisquared distribution with k degrees of freedom\n",
    "    \n",
    "    Args:\n",
    "        k:    number of degrees of freedom (DoF)\n",
    "    \n",
    "    Return:\n",
    "        x:    random sample from the chisquared distribution with k degrees of freedom\n",
    "    \n",
    "    \"\"\"\n",
    "    \n",
    "    # YOUR CODE HERE\n",
    "    pass\n",
    "\n",
    "\n",
    "def sample_t(k: int) -> float:\n",
    "    \"\"\"\n",
    "    Sample from the t distribution with k degrees of freedom\n",
    "    \n",
    "    Args:\n",
    "        k:    number of degrees of freedom\n",
    "    \n",
    "    Return:\n",
    "        x:    random sample from the t distribution\n",
    "    \n",
    "    \"\"\"\n",
    "    \n",
    "    # YOUR CODE HERE\n",
    "    pass\n",
    "\n",
    "\n",
    "def sample_f(k1: int, k2:int) -> float:\n",
    "    \"\"\"\n",
    "    Sample from the F distribution with k1 over k2 degrees of freedom\n",
    "    \n",
    "    Args:\n",
    "        k1:    number of degrees of freedom numerator\n",
    "        k2:    number of degrees of freedom denominator\n",
    "    \n",
    "    Return:\n",
    "        x:    random sample from the F distribution\n",
    "    \n",
    "    \"\"\"\n",
    "    \n",
    "    # YOUR CODE HERE\n",
    "    pass"
   ]
  },
  {
   "cell_type": "code",
   "execution_count": null,
   "id": "d6bb2103",
   "metadata": {},
   "outputs": [],
   "source": [
    "MY_ID = 12345678 # your personal ID number with leading zeros removed\n",
    "random.seed(MY_ID)\n",
    "\n",
    "# Your code to items 2-4 goes here:\n",
    "# "
   ]
  },
  {
   "cell_type": "markdown",
   "id": "c92e2aa5",
   "metadata": {},
   "source": [
    "## Problem 3 (The Normal Distribution)\n",
    "\n",
    "1. Let $Z = (Z_1,\\ldots,Z_9)^\\top \\sim \\mathcal N(\\mu, I_9)$ where $\\mu \\in \\reals^9$. Show that $3Z_1-Z_2+Z_3-Z_4$ is independent of $Z_1 + Z_2 - Z_3 + Z_4 - Z_5$.\n",
    "\n",
    "2. Suppose that $Z \\sim \\mathcal N(\\mu, I_n)$ and let $X = a^\\top Z$ and $Y = B^\\top Z$ for a non-random vectors $a \\in \\mathbb R^n$ and a non-random matrix $B \\in \\mathbb R^{n \\times p}$. Find conditions on $a$ and $B$ such that $X$ is independent of $Y$.\n",
    "\n",
    "3. Suppose that $Z_{ij} \\overset{iid}{\\sim} \\mathcal N(0, 1)$ for $i= 1,\\ldots,I$ and $j=1,\\ldots,J$. Define \n",
    "$$\n",
    "\\bar{Z}_{i\\bullet} := \\frac{1}{J} \\sum_{j=1}^J Z_{ij},\\qquad \\bar{Z}_{\\bullet j} := \\frac{1}{I} \\sum_{i=1}^I Z_{ij}, \\qquad \\bar{Z}_{\\bullet \\bullet} := \\frac{1}{IJ} \\sum_{j=1}^J \\sum_{i=1}^I Z_{ij}\n",
    "$$\n",
    "\n",
    "- Is $\\bar{Z}_{i\\bullet}$ independent of $\\bar{Z}_{\\bullet j}$ ?\n",
    "- Is $\\bar{Z}_{1\\bullet}$ independent of $\\bar{Z}_{2\\bullet}$ ?\n",
    "- Is $\\bar{Z}_{i\\bullet} - \\bar{Z}_{\\bullet \\bullet}$ independent of $\\bar{Z}_{i\\bullet}$ ?\n",
    "\n",
    "4. Consider the variance-covariance matrix \n",
    "$$\n",
    "\\bar{\\Sigma} = \\begin{bmatrix} 1 & -.25 \\\\\n",
    "-.25 & 1\n",
    "\\end{bmatrix}\n",
    "$$\n",
    "Using as many samples as you need from the standard normal distribution (e.g. ``numpy.random.randn``), generate $N = 1000$ independent samples from the bivariate normal distribution $\\mathcal N(0, \\bar{\\Sigma})$ (you'll get $N$ pairs). Illustrate these samples over a scatter plot.\n",
    "\n",
    "5. Consider the region in $\\reals^2$:\n",
    "$$\n",
    "A = \\{ (x,y)\\,: 0 \\leq x \\leq 1, 2x \\leq y \\leq 3\\}\n",
    "$$\n",
    "For $(X_1, X_2) \\sim \\mathcal N(0, \\bar{\\Sigma})$, estimate \n",
    "$$\n",
    "\\Pr\\left[ (X_1, X_2) \\in A \\right]\n",
    "$$\n",
    "in two ways: \n",
    "    1. Evaluating the integral over the Gaussian density function **numerically**. Set the number of grid points $G$ in every axis to be at least $500$.\n",
    "    2. Estimating the fraction of samples in 4 that falls in the region $A$\n"
   ]
  },
  {
   "cell_type": "markdown",
   "id": "bb353684",
   "metadata": {},
   "source": [
    "## Problem 4 (Conditional Distribution)\n",
    "For\n",
    "$$\n",
    "\\begin{bmatrix}\n",
    "X \\\\\n",
    "Y \\\\\n",
    "Z \n",
    "\\end{bmatrix} \\sim \\mathcal N\\left( \\begin{bmatrix} 1 \\\\\n",
    "2\\\\\n",
    "3\n",
    "\\end{bmatrix}, \\begin{bmatrix}\n",
    " 4 & -1 & 3 \\\\\n",
    " -1 & 2 & -3 \\\\\n",
    " 3 & -3 & 8\n",
    "\\end{bmatrix}\n",
    "\\right)\n",
    "$$\n",
    "find (numerically):\n",
    "1. The distribution of $X$ given that $Y = 1$.\n",
    "2. The joint distribution of $X$ and $Y$ given $Z = 1$.\n",
    "3. The distribution of $Y$ given that $Z = 2$ and $X = 3$.\n",
    "4. $Pr(Y \\in [-1,1] | Z=4, X=3)$\n",
    "<hr>\n",
    "<hr>"
   ]
  },
  {
   "cell_type": "markdown",
   "id": "5a18195d",
   "metadata": {},
   "source": [
    "## Problem 5 (Distributional Properties of the Least Squares Estiamte)\n",
    "Consider a least squares model with one predictor $p=1$ without an intercept term, i.e. $y_i = \\beta x_i + \\epsilon_i$, $i=1,\\ldots,n$.\n",
    "1. Write the least squares solution $\\hat{\\beta} \\in \\mathbb R$ in terms of $x = (x_1,\\ldots,x_n)^\\top$ and $y = (y_1,\\ldots,y_n)^\\top$.\n",
    "2. With $\\hat{y}_i = \\hat{\\beta} x_i$ and $\\hat{\\epsilon}_i = y_i - \\hat{y}_i$, show that\n",
    " - $\\sum_{i=1}^n \\hat{y}_i \\hat{\\epsilon}_i = 0$\n",
    " - $\\|\\hat{\\epsilon}\\|^2 = \\|y\\|^2 -  \\|\\hat{y}\\|^2$\n",
    "3. Suppose that $\\epsilon_i \\overset{iid}{\\sim} N(0, 1)$.\n",
    " - What is the distribution of the random vector $[ \\hat{\\epsilon}~~ \\hat{y}]^\\top$?\n",
    " - What is the distribution of the random vector $[\\hat{y}~~ \\hat{\\beta}]^\\top$?\n",
    "4. (bonus) Set $\\|\\epsilon\\|_{\\infty} := \\max_{i=1,\\ldots,n} |\\epsilon_i|$. What is $Pr( \\|\\hat{\\epsilon}\\|_{\\infty} > 2)$? is it larger or smaller than $Pr(\\|\\epsilon\\|_{\\infty}  > 2)$? (The point: we want to know if the predicted residuals tend to have less or more extreme values than the true ones)\n",
    "\n",
    "<hr>\n",
    "<hr>\n"
   ]
  },
  {
   "cell_type": "markdown",
   "id": "c204c930",
   "metadata": {},
   "source": [
    "## Problem 6 (Model fitting, t- and F-Tests)\n",
    "Consider the house prices dataset from the EDA notebook, which you can obtain from kaggle via:"
   ]
  },
  {
   "cell_type": "code",
   "execution_count": 10,
   "id": "2140cbc0",
   "metadata": {
    "ExecuteTime": {
     "end_time": "2023-04-27T18:05:34.735544Z",
     "start_time": "2023-04-27T18:05:32.172368Z"
    }
   },
   "outputs": [
    {
     "name": "stdout",
     "output_type": "stream",
     "text": [
      "Downloading house-prices-advanced-regression-techniques.zip to /Users/kipnisal/Teaching/AdvStats/2023/HW/HW2\r\n",
      "100%|█████████████████████████████████████████| 199k/199k [00:00<00:00, 399kB/s]\r\n",
      "100%|█████████████████████████████████████████| 199k/199k [00:00<00:00, 398kB/s]\r\n",
      "Archive:  house-prices-advanced-regression-techniques.zip\r\n",
      "  inflating: house-prices/data_description.txt  \r\n",
      "  inflating: house-prices/sample_submission.csv  \r\n",
      "  inflating: house-prices/test.csv   \r\n",
      "  inflating: house-prices/train.csv  \r\n"
     ]
    }
   ],
   "source": [
    "!kaggle competitions download -c house-prices-advanced-regression-techniques\n",
    "!mkdir house-prices\n",
    "!unzip house-prices-advanced-regression-techniques.zip -d house-prices/"
   ]
  },
  {
   "cell_type": "markdown",
   "id": "353b5293",
   "metadata": {},
   "source": [
    "Only consider houses of lot size smaller than $15,000$ square feet, e.g. by using"
   ]
  },
  {
   "cell_type": "code",
   "execution_count": 20,
   "id": "9b89f9fa",
   "metadata": {},
   "outputs": [],
   "source": [
    "import pandas as pd\n",
    "data_raw = pd.read_csv(\"house-prices/train.csv\")\n",
    "data = data_raw[data_raw.LotArea < 15000]  # we focus on small lots"
   ]
  },
  {
   "cell_type": "markdown",
   "id": "4d84942a",
   "metadata": {},
   "source": [
    "Consider predicting ``SalePrice`` via a linear model with predictors:"
   ]
  },
  {
   "cell_type": "code",
   "execution_count": 21,
   "id": "c1471d69",
   "metadata": {},
   "outputs": [],
   "source": [
    "feat_set1 = ['LotArea',  'YearBuilt', 'YrSold', 'GarageCars',\n",
    "             'FullBath', 'TotalBsmtSF', 'GarageArea', 'OverallQual']"
   ]
  },
  {
   "cell_type": "markdown",
   "id": "c29f8793",
   "metadata": {},
   "source": [
    "plus a constant. "
   ]
  },
  {
   "cell_type": "markdown",
   "id": "3cd6f456",
   "metadata": {},
   "source": [
    "1. Find the least squares estimate $\\hat{\\beta}$ of this model.\n",
    "2. Find $R^2$ of this model.\n",
    "3. For each $\\beta_j$, $j=1,\\ldots,9$, evaluate the $t$ statistic corresponding to testing \n",
    "$$\n",
    "H_{0j}\\,:\\, \\beta_j=0\n",
    "$$\n",
    "and its P-values (identify first the number of degrees of freedom). \n",
    "4. Which of these statistics exceeds the $0.975$-th quantile of the corresponding $t$ distribution and below the $0.025$-th quantile? (values exceeding theses quantiles are strong evidence against $H_{0j}$)\n",
    "5. Consider a smaller model involving only ``LotArea``,  ``YearBuilt``, ``YrSold`` as predictors. Find the least squares estimate of this smaller model and its sum of sqaures. Is this model provides a valid representation of the data compared to the original larger one? Answer your question by evaluating the relevant $F$ statistic and report on the F-test's P-value. \n",
    "\n",
    "<hr>\n",
    "<hr>"
   ]
  },
  {
   "cell_type": "markdown",
   "id": "9b019538",
   "metadata": {
    "collapsed": false
   },
   "source": [
    "# Problem 7 (Solving LS using SVD)\n",
    "Consider the housing prices dataset (``housing_prices.csv``). Use houses of lot size smaller than 15000 ft.\n",
    "\n",
    "1. Find the least squares coefficient of the linear model with target variable ``SalePrice`` and the 16 predictors:\n",
    "``['LotArea',  'YearBuilt',\n",
    "  'GarageCars', 'YrSold', 'MoSold', 'Fireplaces',\n",
    "  'HalfBath', 'LowQualFinSF', 'TotalBsmtSF',\n",
    "  '1stFlrSF', 'LotFrontage', 'ScreenPorch',\n",
    "   'WoodDeckSF', 'OverallCond', 'BsmtUnfSF']``\n",
    "plus a constant term. Remove all entries in which one or more of these predictors is missing. Use the following methods:\n",
    " - By inverting the matrix $Z^\\top Z$. Denote the solution $\\hat{\\beta}$.\n",
    " - Using the SVD method. Here, decide that $\\sigma_i > 0$ if $\\sigma_i / \\sigma_1 > 10^{-6}$. Denote the solution $\\hat{\\beta}^{SVD}$.\n",
    " \n",
    "Which method has the smallest $R^2$?\n",
    "\n",
    "2. Plot $\\hat{y}$ and $\\hat{y}^{SVD}$ over the same pannel to convince yourself that both methods resulted in similar fitted responses.\n",
    "3. Plot $\\log(|\\hat{\\beta}_i/\\hat{\\beta}^{SVD}_i|)$ vs. $i$ for $i=1,\\ldots,p$. Indicate the covariate whose coefficient exhibits the largest difference between the methods.\n",
    "\n",
    "The point: When there are many predictors, it is likely that $Z$ will be rank deficient in the sense that some of its singular values are very small. Removing those singular values is usually a good practice; it is important to observe how this removal affects the solution."
   ]
  },
  {
   "cell_type": "markdown",
   "id": "1903a92d",
   "metadata": {
    "collapsed": false
   },
   "source": [
    "You can use the code below to read and arrange the data"
   ]
  },
  {
   "cell_type": "code",
   "execution_count": null,
   "id": "50f3e80a",
   "metadata": {
    "collapsed": false
   },
   "outputs": [],
   "source": [
    "import pandas as pd\n",
    "\n",
    "target = 'SalePrice'\n",
    "lo_predictors = ['const', 'SalePrice', 'LotArea',  'YearBuilt',\n",
    "    'GarageCars', 'YrSold', 'MoSold', 'Fireplaces',\n",
    "    'HalfBath', 'LowQualFinSF', 'TotalBsmtSF',\n",
    "    '1stFlrSF', 'LotFrontage', 'ScreenPorch',\n",
    "     'WoodDeckSF', 'OverallCond', 'BsmtUnfSF']\n",
    "\n",
    "data = pd.read_csv(\"housing_prices.csv\")\n",
    "data = data[data.LotArea < 15000]  # we focus on small lots\n",
    "data['const'] = 1                  # add constant term\n",
    "data = data.filter(lo_predictors).dropna() # remove all other columns\n",
    "\n",
    "y = data[target].values\n",
    "X = data.drop(target, axis=1)\n",
    "Z = X.values\n",
    "n, p = Z.shape"
   ]
  },
  {
   "cell_type": "markdown",
   "id": "0d058733",
   "metadata": {
    "collapsed": false
   },
   "source": []
  }
 ],
 "metadata": {
  "kernelspec": {
   "display_name": "Python 3",
   "language": "python",
   "name": "python3"
  },
  "language_info": {
   "codemirror_mode": {
    "name": "ipython",
    "version": 3
   },
   "file_extension": ".py",
   "mimetype": "text/x-python",
   "name": "python",
   "nbconvert_exporter": "python",
   "pygments_lexer": "ipython3",
   "version": "3.8.5"
  }
 },
 "nbformat": 4,
 "nbformat_minor": 5
}
